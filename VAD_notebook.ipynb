{
 "cells": [
  {
   "cell_type": "code",
   "execution_count": 1,
   "id": "57fd762c-dc28-4f62-9c7f-009635fbf578",
   "metadata": {},
   "outputs": [],
   "source": [
    "import torch\n",
    "import torch.nn as nn\n",
    "from torch.utils.data import Dataset, DataLoader\n",
    "from torch.distributions import Beta\n",
    "import torch.distributions as dist\n",
    "%matplotlib inline\n",
    "import numpy as np\n",
    "import pandas as pd\n",
    "import sys\n",
    "import os\n",
    "import random\n",
    "import time\n",
    "import matplotlib.pyplot as plt\n",
    "from mpl_toolkits.mplot3d import Axes3D\n",
    "\n",
    "import utils\n",
    "import evaluate"
   ]
  },
  {
   "cell_type": "code",
   "execution_count": 2,
   "id": "92ddf762-97e3-4169-ae4f-2aa6018a1ec9",
   "metadata": {},
   "outputs": [],
   "source": [
    "def plot_tensors_as_images(images):\n",
    "    fig, axs = plt.subplots(1, len(images), figsize=(15, 3))  # Create 1x5 grid of subplots\n",
    "    for i in range(5):\n",
    "        axs[i].imshow(images[i].cpu().detach().numpy(), cmap='Grays')  # Convert tensor to numpy for plotting\n",
    "        axs[i].axis('off')  # Hide axes\n",
    "    \n",
    "    plt.show()"
   ]
  },
  {
   "cell_type": "code",
   "execution_count": 3,
   "id": "7e26e80d-abbf-4092-80c9-94aad2b14268",
   "metadata": {},
   "outputs": [],
   "source": [
    "def save_checkpoint(model, checkpoint_filename: str):\n",
    "    dirname = os.path.dirname(checkpoint_filename) or \".\"\n",
    "    os.makedirs(dirname, exist_ok=True)\n",
    "    torch.save({\"model_state\": model.state_dict()}, checkpoint_filename+\".pt\")\n",
    "    print(f\"\\n*** Saved checkpoint {checkpoint_filename}\")"
   ]
  },
  {
   "cell_type": "code",
   "execution_count": 4,
   "id": "4c76674b-de4c-4e61-839e-72fe3337925e",
   "metadata": {},
   "outputs": [],
   "source": [
    "def get_device():\n",
    "    if torch.cuda.is_available(): \n",
    "     dev = \"cuda:0\" \n",
    "    else: \n",
    "     dev = \"cpu\" \n",
    "    return torch.device(dev) "
   ]
  },
  {
   "cell_type": "code",
   "execution_count": 5,
   "id": "1d291a15-d046-448c-b4bf-4817f4452d20",
   "metadata": {},
   "outputs": [
    {
     "name": "stdout",
     "output_type": "stream",
     "text": [
      "cpu\n"
     ]
    },
    {
     "data": {
      "text/plain": [
       "<torch.autograd.anomaly_mode.set_detect_anomaly at 0x7f4dc4c1be80>"
      ]
     },
     "execution_count": 5,
     "metadata": {},
     "output_type": "execute_result"
    }
   ],
   "source": [
    "device = get_device()\n",
    "print(device)\n",
    "torch.autograd.set_detect_anomaly(True)"
   ]
  },
  {
   "cell_type": "code",
   "execution_count": 6,
   "id": "f39bd7ee-45ba-41fd-8d5e-4cf46b0aea9c",
   "metadata": {},
   "outputs": [],
   "source": [
    "def ELBO_loss(recon_x, x, mu, sigma, beta=1, b1 = 255, a1 = 0, distr='normal'):\n",
    "    reconstruction_loss = torch.nn.functional.mse_loss(recon_x, x, reduction='mean')\n",
    "    #recon_error = evaluate.reconstruction_loss(recon_x,x)\n",
    "    #recon_error = nn.functional.binary_cross_entropy(recon_x, x, reduction='sum') / x.size(0)\n",
    "\n",
    "    if distr == \"normal\":\n",
    "        kl = -0.5 * torch.mean(1 + torch.log(sigma.pow(2)) - mu.pow(2) - sigma.pow(2), dim=1)\n",
    "        kl = kl.mean()\n",
    "    elif distr == \"lognormal\":\n",
    "        kl = -0.5 * torch.mean(1 + torch.log(sigma.pow(2)) - mu.pow(2) - sigma.pow(2), dim=1)\n",
    "        kl = kl.mean()\n",
    "    elif distr == \"uniform\":\n",
    "        #Assuming mu, sigma = a2,b2 represent the learned bounds\n",
    "        kl = torch.mean(sigma / (b1 - a1), dim=1)\n",
    "        kl = kl.mean() \n",
    "    elif distr == \"laplace\":\n",
    "        sigma.clamp_(min = 1e-5)\n",
    "        #print((sigma<=0).any())\n",
    "        kl = torch.mean(sigma*(-mu.abs()/sigma).exp()+mu.abs()+(1/sigma).log()-1,dim=1)\n",
    "        kl=kl.mean()\n",
    "    else:\n",
    "        raise ValueError(f\"Distribution {distr} not recognized.\")\n",
    "\n",
    "    return reconstruction_loss + beta * kl"
   ]
  },
  {
   "cell_type": "code",
   "execution_count": 7,
   "id": "d84e9672-3ef1-42d1-8f54-8076cfd0775d",
   "metadata": {},
   "outputs": [],
   "source": [
    "def sample_params(num_samples = 5, DISTR = \"normal\"):\n",
    "    if DISTR == \"normal\":\n",
    "        mu = torch.randn(num_samples, Z_DIM, requires_grad=True)\n",
    "        sigma = torch.abs(torch.randn(num_samples, Z_DIM, requires_grad=True))\n",
    "    elif DISTR == \"uniform\":\n",
    "        mu = torch.rand(num_samples, Z_DIM, requires_grad=True)\n",
    "        sigma = torch.abs(torch.rand(num_samples, Z_DIM, requires_grad=True))\n",
    "    elif DISTR == \"lognormal\":\n",
    "        mu = torch.randn(num_samples, Z_DIM, requires_grad=True)\n",
    "        sigma = torch.abs(torch.randn(num_samples, Z_DIM, requires_grad=True))\n",
    "    elif DISTR == \"laplace\":\n",
    "        mu = torch.randn(num_samples, Z_DIM, requires_grad=True)\n",
    "        sigma = torch.abs(torch.randn(num_samples, Z_DIM, requires_grad=True))\n",
    "\n",
    "    return mu, sigma"
   ]
  },
  {
   "cell_type": "code",
   "execution_count": 9,
   "id": "c3fea189-277d-4900-896c-e964df0e68e8",
   "metadata": {},
   "outputs": [],
   "source": [
    "class VariationalAutoDecoder(nn.Module):\n",
    "    def __init__(self, x_dim, z_dim, mu, sigma, distr = \"normal\", device=torch.device(\"cpu\")):\n",
    "        super().__init__()\n",
    "        self.device = device\n",
    "        self.x_dim = x_dim\n",
    "        self.z_dim = z_dim\n",
    "        self.distr = distr\n",
    "        self.dist_params=nn.parameter.Parameter(torch.cat((mu,sigma),dim=1),True)\n",
    "        \n",
    "        self.decoder = nn.Sequential(\n",
    "            nn.ConvTranspose2d(z_dim, 128, kernel_size=7, stride=1, padding=0),  \n",
    "            nn.BatchNorm2d(128),\n",
    "            nn.ReLU(),\n",
    "            \n",
    "            nn.ConvTranspose2d(128, 64, kernel_size=4, stride=2, padding=1),  \n",
    "            nn.BatchNorm2d(64),\n",
    "            nn.ReLU(),\n",
    "            \n",
    "            nn.ConvTranspose2d(64, 1, kernel_size=4, stride=2, padding=1),\n",
    "            nn.Sigmoid()  # Output in range [0, 1]\n",
    "        )\n",
    "        \n",
    "        self.mlp = nn.Linear(x_dim,x_dim,bias=True)\n",
    "\n",
    "    def sample_vectors(self, dist_params):\n",
    "        if self.distr == \"normal\":\n",
    "            # Reparameterization for Normal distribution\n",
    "            mu = dist_params[:,:self.z_dim]\n",
    "            sigma = dist_params[:,self.z_dim:]\n",
    "            eps = torch.randn_like(mu, requires_grad=True).to(self.device)\n",
    "            z = sigma*eps + mu\n",
    "            \n",
    "        elif self.distr == \"uniform\":\n",
    "            # Reparameterization for Uniform distribution in the range [a, b]\n",
    "            a = dist_params[:,:self.z_dim]\n",
    "            b = dist_params[:,self.z_dim:] + a\n",
    "            z = torch.rand_like(a, requires_grad=True).to(self.device) * (b-a) + a\n",
    "        elif self.distr == \"lognormal\":\n",
    "            # Reparameterization for Log-Normal distribution\n",
    "            mu = dist_params[:,:self.z_dim]\n",
    "            sigma = dist_params[:,self.z_dim:]\n",
    "            eps = torch.randn_like(sigma, requires_grad=True).to(self.device)\n",
    "            z = torch.exp(mu + eps * sigma)  # Exponentiate to get the log-normal sample\n",
    "        elif self.distr == \"laplace\":\n",
    "            mu = dist_params[:,:self.z_dim]\n",
    "            sigma = dist_params[:,self.z_dim:]\n",
    "            #z = torch.distributions.laplace.Laplace(mu,sigma).rsample().to(self.device) \n",
    "            eps = torch.rand_like(mu, requires_grad=True).to(self.device)\n",
    "            eps1 = 1e-5 + eps\n",
    "            eps2 = eps - 1e-5\n",
    "            v1 = sigma*((2*eps1).log())+mu\n",
    "            v2 = mu - sigma*((2*(1-eps2)).log())\n",
    "            z = torch.where(eps<0.5,v1,v2)\n",
    "        else:\n",
    "            raise ValueError(f\"Distribution {self.distr} not recognized.\")\n",
    "        return z\n",
    "    \n",
    "    def decode(self, z):\n",
    "        z = z.view(-1, self.z_dim, 1, 1)\n",
    "        reconstructed_images = 255 * self.decoder(z).view(-1,28*28) # Output in range [0, 255]\n",
    "        reconstructed_images = self.mlp(reconstructed_images)\n",
    "        reconstructed_images = reconstructed_images.view(z.shape[0], 28, 28)\n",
    "        return reconstructed_images\n",
    "    \n",
    "    def forward(self, dist_params):\n",
    "        z = self.sample_vectors(dist_params)\n",
    "        z = z.view(-1, self.z_dim, 1, 1)\n",
    "        reconstructed_images = 255 * self.decoder(z).view(-1,28*28) # Output in range [0, 255]\n",
    "        reconstructed_images = self.mlp(reconstructed_images)\n",
    "        reconstructed_images = reconstructed_images.view(z.shape[0], 28, 28)\n",
    "        return reconstructed_images "
   ]
  },
  {
   "cell_type": "code",
   "execution_count": 11,
   "id": "5a26a388-12d3-4cba-a198-862af0d7fc1f",
   "metadata": {},
   "outputs": [],
   "source": [
    "BATCH_SIZE = 64\n",
    "LEARNING_RATE = 1e-2\n",
    "NUM_EPOCHS = 750 \n",
    "X_DIM = 28 * 28  \n",
    "Z_DIM = 100\n",
    "DISTR = \"uniform\"\n",
    "\n",
    "config = {\n",
    "    \"BATCH_SIZE\": BATCH_SIZE,\n",
    "    \"LEARNING_RATE\": LEARNING_RATE,\n",
    "    \"NUM_EPOCHS\": NUM_EPOCHS,\n",
    "    \"X_DIM\": X_DIM,\n",
    "    \"Z_DIM\": Z_DIM,\n",
    "    \"DISTR\": DISTR\n",
    "}"
   ]
  },
  {
   "cell_type": "code",
   "execution_count": 12,
   "id": "7bec8be9-6b3e-4b48-b0a7-2247497e2b0b",
   "metadata": {},
   "outputs": [],
   "source": [
    "train_ds, train_dl, test_ds, test_dl = utils.create_dataloaders(\"dataset\", device, BATCH_SIZE)"
   ]
  },
  {
   "cell_type": "code",
   "execution_count": 13,
   "id": "4384e3b8-0292-47d7-854f-3be0581975c0",
   "metadata": {},
   "outputs": [
    {
     "name": "stdout",
     "output_type": "stream",
     "text": [
      "torch.Size([1000, 100])\n"
     ]
    }
   ],
   "source": [
    "#mu, sigma = sample_params(len(train_ds), DISTR = DISTR)\n",
    "mu_init = 255* torch.rand(10, Z_DIM, requires_grad=True)\n",
    "sigma_init = 255* torch.abs(torch.rand(10, Z_DIM, requires_grad=True))\n",
    "\n",
    "labels = train_ds.y\n",
    "mu = mu_init[labels]\n",
    "sigma = sigma_init[labels]\n",
    "print(mu.shape)"
   ]
  },
  {
   "cell_type": "code",
   "execution_count": 14,
   "id": "83da0e9d-301d-43a1-85c8-eac037f9f7b9",
   "metadata": {},
   "outputs": [
    {
     "name": "stdout",
     "output_type": "stream",
     "text": [
      "VariationalAutoDecoder(\n",
      "  (decoder): Sequential(\n",
      "    (0): ConvTranspose2d(100, 128, kernel_size=(7, 7), stride=(1, 1))\n",
      "    (1): BatchNorm2d(128, eps=1e-05, momentum=0.1, affine=True, track_running_stats=True)\n",
      "    (2): ReLU()\n",
      "    (3): ConvTranspose2d(128, 64, kernel_size=(4, 4), stride=(2, 2), padding=(1, 1))\n",
      "    (4): BatchNorm2d(64, eps=1e-05, momentum=0.1, affine=True, track_running_stats=True)\n",
      "    (5): ReLU()\n",
      "    (6): ConvTranspose2d(64, 1, kernel_size=(4, 4), stride=(2, 2), padding=(1, 1))\n",
      "    (7): Sigmoid()\n",
      "  )\n",
      "  (mlp): Linear(in_features=784, out_features=784, bias=True)\n",
      ")\n"
     ]
    }
   ],
   "source": [
    "vad = VariationalAutoDecoder(x_dim=X_DIM, \n",
    "                             z_dim=Z_DIM, \n",
    "                             mu=mu, \n",
    "                             sigma=sigma, \n",
    "                             device=device,\n",
    "                             distr = DISTR).to(device)\n",
    "print(vad)"
   ]
  },
  {
   "cell_type": "code",
   "execution_count": 15,
   "id": "14b106f3-817b-4ecf-9605-e16f2eb73712",
   "metadata": {},
   "outputs": [],
   "source": [
    "optim = torch.optim.Adam(params=vad.parameters(), lr=LEARNING_RATE)"
   ]
  },
  {
   "cell_type": "code",
   "execution_count": 16,
   "id": "b5f5cbb2-e9f8-444d-88d0-f44fd45177c8",
   "metadata": {},
   "outputs": [
    {
     "name": "stdout",
     "output_type": "stream",
     "text": [
      "TRAINING with  {'BATCH_SIZE': 64, 'LEARNING_RATE': 0.01, 'NUM_EPOCHS': 750, 'X_DIM': 784, 'Z_DIM': 100, 'DISTR': 'uniform'}\n",
      "epoch: 0 training loss: 75213.07584\n",
      "epoch: 50 training loss: 3327.55128\n",
      "epoch: 100 training loss: 2923.01433\n",
      "epoch: 150 training loss: 2683.13591\n",
      "epoch: 200 training loss: 2500.70921\n",
      "epoch: 250 training loss: 2294.04519\n",
      "epoch: 300 training loss: 2183.49367\n",
      "epoch: 350 training loss: 2042.54180\n",
      "epoch: 400 training loss: 1920.73872\n",
      "epoch: 450 training loss: 1846.97199\n",
      "epoch: 500 training loss: 1754.93367\n",
      "epoch: 550 training loss: 1635.34128\n",
      "epoch: 600 training loss: 1573.58259\n",
      "epoch: 650 training loss: 1490.88406\n",
      "epoch: 700 training loss: 1445.27789\n",
      "\n",
      "*** Saved checkpoint ./models/VAD/VAD_train_uniform_trick\n"
     ]
    }
   ],
   "source": [
    "# load\n",
    "filename =f\"./models/VAD/VAD_train_{DISTR}_trick\"\n",
    "path = \"./\"+filename+\".pt\"\n",
    "\n",
    "if(os.path.isfile(path)):\n",
    "    state = torch.load(path)[\"model_state\"]\n",
    "    vad.load_state_dict(state)\n",
    "    print(\"loaded checkpoint from\", filename)\n",
    "else:   \n",
    "    train_losses = []\n",
    "    \n",
    "    print(\"TRAINING with \", config)\n",
    "    for epoch in range(NUM_EPOCHS):\n",
    "        batch_losses = []\n",
    "        \n",
    "        for batch_i, batch in enumerate(train_dl):\n",
    "            idx, x = batch\n",
    "                \n",
    "            x_reconstruction = vad.forward(vad.dist_params[idx])\n",
    "            loss = ELBO_loss(x_reconstruction, x.float(), vad.dist_params[idx][:,:Z_DIM], vad.dist_params[idx][:,Z_DIM:], distr = DISTR, beta = 5)\n",
    "            \n",
    "            optim.zero_grad()\n",
    "            loss.backward()    \n",
    "            optim.step()\n",
    "            \n",
    "            if vad.distr == \"uniform\" :\n",
    "                torch.clamp(vad.dist_params[idx][:,:Z_DIM], min = 1e-5)\n",
    "            \n",
    "            batch_losses.append(loss.data.cpu().item())\n",
    "        \n",
    "        train_losses.append(np.mean(batch_losses))\n",
    "    \n",
    "        if(epoch % 50 == 0):\n",
    "            print(\"epoch: {} training loss: {:.5f}\".format(epoch, train_losses[-1]))\n",
    "    \n",
    "    save_checkpoint(vad,filename)"
   ]
  },
  {
   "cell_type": "code",
   "execution_count": 17,
   "id": "a7557d25-f5a8-41c2-8541-ec84d45b47f7",
   "metadata": {},
   "outputs": [
    {
     "name": "stdout",
     "output_type": "stream",
     "text": [
      ".\n",
      ".\n",
      ".\n",
      ".\n",
      ".\n",
      ".\n",
      ".\n",
      ".\n",
      ".\n",
      ".\n",
      "TRAIN EVALUATION LOSS:  0.14572462812066078\n"
     ]
    },
    {
     "data": {
      "text/plain": [
       "<Figure size 800x600 with 0 Axes>"
      ]
     },
     "metadata": {},
     "output_type": "display_data"
    }
   ],
   "source": [
    "#EVALUATING ON TRAIN\n",
    "mu, sigma = sample_params(len(train_ds), DISTR = DISTR) \n",
    "\n",
    "params = torch.cat((mu,sigma),dim=1)\n",
    "vad.dist_params = torch.nn.Parameter(params,True)\n",
    "\n",
    "opt = torch.optim.Adam([vad.dist_params], lr=LEARNING_RATE)\n",
    "\n",
    "train_res = evaluate.evaluate_model(vad, train_dl, opt, vad.dist_params, 500 , device)\n",
    "print(\"TRAIN EVALUATION LOSS: \", train_res)\n",
    "\n",
    "latent_vectors = vad.sample_vectors(vad.dist_params)\n",
    "utils.plot_tsne(train_ds, latent_vectors, \"VAD_TSNE_train\")"
   ]
  },
  {
   "cell_type": "code",
   "execution_count": 18,
   "id": "005de1cd-e776-4570-8bc8-d98f30fe3ae9",
   "metadata": {},
   "outputs": [
    {
     "name": "stdout",
     "output_type": "stream",
     "text": [
      ".\n",
      ".\n",
      ".\n",
      ".\n",
      ".\n",
      ".\n",
      ".\n",
      ".\n",
      ".\n",
      ".\n",
      "TEST EVALUATION LOSS:  0.16447498090565205\n"
     ]
    },
    {
     "data": {
      "text/plain": [
       "<Figure size 800x600 with 0 Axes>"
      ]
     },
     "metadata": {},
     "output_type": "display_data"
    }
   ],
   "source": [
    "#EVALUATING ON TEST\n",
    "mu, sigma = sample_params(len(test_ds), DISTR = DISTR) \n",
    "\n",
    "params = torch.cat((mu,sigma),dim=1)\n",
    "vad.dist_params = torch.nn.Parameter(params,True)\n",
    "\n",
    "opt = torch.optim.Adam([vad.dist_params], lr=LEARNING_RATE)\n",
    "\n",
    "test_res = evaluate.evaluate_model(vad, test_dl, opt, vad.dist_params, 500 , device)\n",
    "print(\"TEST EVALUATION LOSS: \", test_res)\n",
    "\n",
    "latent_vectors = vad.sample_vectors(vad.dist_params)\n",
    "utils.plot_tsne(test_ds, latent_vectors, \"VAD_TSNE_test\")"
   ]
  },
  {
   "cell_type": "code",
   "execution_count": 32,
   "id": "6c384930-27e6-4ac4-accd-59c7a20d4a19",
   "metadata": {},
   "outputs": [
    {
     "data": {
      "image/png": "[encoded data removed]",
      "text/plain": [
       "<Figure size 1500x300 with 5 Axes>"
      ]
     },
     "metadata": {},
     "output_type": "display_data"
    },
    {
     "data": {
      "image/png": "[encoded data removed]",
      "text/plain": [
       "<Figure size 1500x300 with 5 Axes>"
      ]
     },
     "metadata": {},
     "output_type": "display_data"
    },
    {
     "data": {
      "image/png": "[encoded data removed]",
      "text/plain": [
       "<Figure size 1500x300 with 5 Axes>"
      ]
     },
     "metadata": {},
     "output_type": "display_data"
    }
   ],
   "source": [
    "num_samples = 5\n",
    "mu, sigma = sample_params(num_samples, DISTR = DISTR) \n",
    "\n",
    "random_indices = random.sample(range(100), num_samples)\n",
    "initial = test_ds[random_indices][1]\n",
    "\n",
    "test_distr_params = vad.dist_params[random_indices]\n",
    "restored_test = vad(test_distr_params).view(-1, 28, 28)\n",
    "\n",
    "random_distr_params = torch.cat((mu,sigma),dim=1)\n",
    "restored_random = vad(random_distr_params).view(-1, 28, 28)\n",
    "\n",
    "plot_tensors_as_images(initial)\n",
    "plot_tensors_as_images(restored_test)\n",
    "plot_tensors_as_images(restored_random)"
   ]
  },
  {
   "cell_type": "code",
   "execution_count": 20,
   "id": "3b0ec771-88d8-472f-8372-a634377a6eec",
   "metadata": {},
   "outputs": [
    {
     "data": {
      "image/png": "[encoded data removed]",
      "text/plain": [
       "<Figure size 1500x300 with 5 Axes>"
      ]
     },
     "metadata": {},
     "output_type": "display_data"
    }
   ],
   "source": [
    "for i in range(200):\n",
    "    if test_ds.y[i]==0:\n",
    "        a_indx = i\n",
    "\n",
    "for i in range(200):\n",
    "    if test_ds.y[i]==2:\n",
    "        b_indx = i\n",
    "\n",
    "a_vec = vad.sample_vectors(vad.dist_params[a_indx:a_indx+1,:])\n",
    "b_vec = vad.sample_vectors(vad.dist_params[b_indx:b_indx+1,:])\n",
    "\n",
    "restored = []\n",
    "for t in range(5):\n",
    "    lat = a_vec*(t/4)+b_vec*(1-t/4)\n",
    "    rec = vad.decode(lat)\n",
    "    restored.append(rec)\n",
    "\n",
    "stacked = torch.stack(restored, dim=0).view(-1,28,28)\n",
    "plot_tensors_as_images(stacked)"
   ]
  }
 ],
 "metadata": {
  "kernelspec": {
   "display_name": "Python 3 (ipykernel)",
   "language": "python",
   "name": "python3"
  },
  "language_info": {
   "codemirror_mode": {
    "name": "ipython",
    "version": 3
   },
   "file_extension": ".py",
   "mimetype": "text/x-python",
   "name": "python",
   "nbconvert_exporter": "python",
   "pygments_lexer": "ipython3",
   "version": "3.10.14"
  }
 },
 "nbformat": 4,
 "nbformat_minor": 5
}
