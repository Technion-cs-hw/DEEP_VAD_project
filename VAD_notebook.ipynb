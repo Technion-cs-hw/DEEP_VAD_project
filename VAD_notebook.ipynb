{
 "cells": [
  {
   "cell_type": "code",
   "execution_count": 1,
   "id": "57fd762c-dc28-4f62-9c7f-009635fbf578",
   "metadata": {},
   "outputs": [],
   "source": [
    "import torch\n",
    "import torch.nn as nn\n",
    "from torch.utils.data import Dataset, DataLoader\n",
    "from torch.distributions import Beta\n",
    "%matplotlib inline\n",
    "import numpy as np\n",
    "import pandas as pd\n",
    "import sys\n",
    "import os\n",
    "import random\n",
    "import time\n",
    "import matplotlib.pyplot as plt\n",
    "from mpl_toolkits.mplot3d import Axes3D\n",
    "\n",
    "import utils\n",
    "import evaluate\n",
    "import cs236781.plot as plot"
   ]
  },
  {
   "cell_type": "code",
   "execution_count": 2,
   "id": "f39bd7ee-45ba-41fd-8d5e-4cf46b0aea9c",
   "metadata": {},
   "outputs": [],
   "source": [
    "def ELBO_loss(recon_x, x, mu, logvar, beta=1, b1 = 255, a1 = 0, distr='normal'):\n",
    "    recon_error = nn.functional.mse_loss(recon_x, x, reduction='sum') / x.size(0)\n",
    "    #recon_error = evaluate.reconstruction_loss(recon_x,x)\n",
    "    #recon_error = nn.functional.binary_cross_entropy(recon_x, x, reduction='sum') / x.size(0)\n",
    "\n",
    "    if distr == \"normal\":\n",
    "        kl = -0.5 * torch.sum(1 + logvar - mu.pow(2) - logvar.exp(), axis=1) / x.size(0)\n",
    "    elif distr == \"lognormal\":\n",
    "        kl = 0.5 * (mu.pow(2) + logvar.exp() - 1 - logvar) / x.size(0)\n",
    "    elif distr == \"uniform\":\n",
    "        #Assuming mu, logvar = b2,a2 represent the learned bounds\n",
    "        kl = torch.log((mu - logvar) / (b1 - a1))\n",
    "    else:\n",
    "        raise ValueError(f\"Distribution {distr} not recognized.\")\n",
    "\n",
    "    return recon_error + beta * kl.sum()"
   ]
  },
  {
   "cell_type": "code",
   "execution_count": 3,
   "id": "fad601f1-31e5-4ab1-9957-cbe5056a6d8e",
   "metadata": {},
   "outputs": [],
   "source": [
    "def elbo2_loss(x, x_rec, mu, sigma):\n",
    "    # Reconstruction loss summed over elements and averaged over batch\n",
    "    reconstruction_loss = torch.nn.functional.mse_loss(x_rec, x, reduction='sum') / x.size(0)\n",
    "    \n",
    "    # KL divergence per sample summed over latent dimensions\n",
    "    kl_divergence = -0.5 * torch.sum(1 + torch.log(sigma.pow(2)) - mu.pow(2) - sigma.pow(2), dim=1)\n",
    "    kl_divergence = kl_divergence.mean()\n",
    "\n",
    "    elbo = reconstruction_loss + kl_divergence\n",
    "    \n",
    "    return elbo"
   ]
  },
  {
   "cell_type": "code",
   "execution_count": 4,
   "id": "92ddf762-97e3-4169-ae4f-2aa6018a1ec9",
   "metadata": {},
   "outputs": [],
   "source": [
    "def plot_tensors_as_images(images):\n",
    "    fig, axs = plt.subplots(1, len(images), figsize=(15, 3))  # Create 1x5 grid of subplots\n",
    "    for i in range(5):\n",
    "        axs[i].imshow(images[i].cpu().detach().numpy(), cmap='Grays')  # Convert tensor to numpy for plotting\n",
    "        axs[i].axis('off')  # Hide axes\n",
    "    \n",
    "    plt.show()"
   ]
  },
  {
   "cell_type": "code",
   "execution_count": 5,
   "id": "4c76674b-de4c-4e61-839e-72fe3337925e",
   "metadata": {},
   "outputs": [],
   "source": [
    "def get_device():\n",
    "    if torch.cuda.is_available(): \n",
    "     dev = \"cuda:0\" \n",
    "    else: \n",
    "     dev = \"cpu\" \n",
    "    return torch.device(dev) "
   ]
  },
  {
   "cell_type": "code",
   "execution_count": 6,
   "id": "1d291a15-d046-448c-b4bf-4817f4452d20",
   "metadata": {},
   "outputs": [
    {
     "name": "stdout",
     "output_type": "stream",
     "text": [
      "cpu\n"
     ]
    },
    {
     "data": {
      "text/plain": [
       "<torch.autograd.anomaly_mode.set_detect_anomaly at 0x7f5ab5f09ae0>"
      ]
     },
     "execution_count": 6,
     "metadata": {},
     "output_type": "execute_result"
    }
   ],
   "source": [
    "device = get_device()\n",
    "print(device)\n",
    "torch.autograd.set_detect_anomaly(True)"
   ]
  },
  {
   "cell_type": "code",
   "execution_count": 7,
   "id": "dad5b3f2-da1e-4175-b7c8-00c376e9be09",
   "metadata": {},
   "outputs": [],
   "source": [
    "class VariationalAutoDecoder(nn.Module):\n",
    "    def __init__(self, x_dim, z_dim, mu, sigma, distr = \"normal\", device=torch.device(\"cpu\")):\n",
    "        super().__init__()\n",
    "        self.device = device\n",
    "        self.x_dim = x_dim\n",
    "        self.z_dim = z_dim\n",
    "        self.distr = distr\n",
    "        #self.mu = nn.parameter.Parameter(mu,True) \n",
    "        #self.sigma = nn.parameter.Parameter(sigma,True) \n",
    "        self.dist_params=nn.parameter.Parameter(torch.cat((mu,sigma),dim=1),True)\n",
    "\n",
    "        \n",
    "        self.decoder = nn.Sequential(\n",
    "            nn.ConvTranspose2d(z_dim, 128, kernel_size=7, stride=1, padding=0),  \n",
    "            nn.BatchNorm2d(128),\n",
    "            nn.ReLU(),\n",
    "            \n",
    "            nn.ConvTranspose2d(128, 64, kernel_size=4, stride=2, padding=1),  \n",
    "            nn.BatchNorm2d(64),\n",
    "            nn.ReLU(),\n",
    "            \n",
    "            nn.ConvTranspose2d(64, 1, kernel_size=4, stride=2, padding=1),\n",
    "            nn.Sigmoid()  # Output in range [0, 1]\n",
    "        )\n",
    "        \n",
    "        self.mlp =  nn.Linear(28*28,28*28,bias=True)\n",
    "        \n",
    "    def sample_vectors(self, dist_params):\n",
    "        mu = dist_params[:,:self.z_dim]\n",
    "        sigma = dist_params[:,self.z_dim:]\n",
    "        Z = torch.randn_like(mu, requires_grad=True).to(self.device)\n",
    "        X = sigma*Z + mu\n",
    "        return X\n",
    "        \n",
    "    def forward(self, dist_params):        \n",
    "        z = self.sample_vectors(dist_params)\n",
    "        z = z.view(-1, self.z_dim, 1, 1)\n",
    "        reconstructed_images = 255 * self.decoder(z).view(-1,28*28) # Output in range [0, 255]\n",
    "        reconstructed_images = self.mlp(reconstructed_images)\n",
    "        reconstructed_images = reconstructed_images.view(dist_params.shape[0], 28, 28)\n",
    "        return reconstructed_images"
   ]
  },
  {
   "cell_type": "code",
   "execution_count": 8,
   "id": "5a26a388-12d3-4cba-a198-862af0d7fc1f",
   "metadata": {},
   "outputs": [],
   "source": [
    "BATCH_SIZE = 64\n",
    "LEARNING_RATE = 1e-2\n",
    "NUM_EPOCHS = 2000 \n",
    "X_DIM = 28 * 28  \n",
    "Z_DIM = 100\n",
    "NUM_CLASSES = 10\n",
    "\n",
    "config = {\n",
    "    \"BATCH_SIZE\": BATCH_SIZE,\n",
    "    \"LEARNING_RATE\": LEARNING_RATE,\n",
    "    \"NUM_EPOCHS\": NUM_EPOCHS,\n",
    "    \"X_DIM\": X_DIM,\n",
    "    \"Z_DIM\": Z_DIM,\n",
    "    \"NUM_CLASSES\": NUM_CLASSES\n",
    "}"
   ]
  },
  {
   "cell_type": "code",
   "execution_count": 9,
   "id": "7bec8be9-6b3e-4b48-b0a7-2247497e2b0b",
   "metadata": {},
   "outputs": [],
   "source": [
    "train_ds, train_dl, test_ds, test_dl = utils.create_dataloaders(\"dataset\", device, BATCH_SIZE)"
   ]
  },
  {
   "cell_type": "code",
   "execution_count": 10,
   "id": "a2062ac8-60c8-4cf1-9964-2276292a08cd",
   "metadata": {},
   "outputs": [
    {
     "name": "stdout",
     "output_type": "stream",
     "text": [
      "torch.Size([1000, 100])\n"
     ]
    }
   ],
   "source": [
    "mu_init = torch.randn(NUM_CLASSES, Z_DIM, requires_grad=True)\n",
    "sigma_init = 6 * torch.randn(NUM_CLASSES, Z_DIM, requires_grad=True)\n",
    "\n",
    "labels = train_ds.y\n",
    "\n",
    "mu = mu_init[labels]\n",
    "sigma = sigma_init[labels]\n",
    "print(mu.shape)"
   ]
  },
  {
   "cell_type": "code",
   "execution_count": 11,
   "id": "83da0e9d-301d-43a1-85c8-eac037f9f7b9",
   "metadata": {},
   "outputs": [
    {
     "name": "stdout",
     "output_type": "stream",
     "text": [
      "VariationalAutoDecoder(\n",
      "  (decoder): Sequential(\n",
      "    (0): ConvTranspose2d(100, 128, kernel_size=(7, 7), stride=(1, 1))\n",
      "    (1): BatchNorm2d(128, eps=1e-05, momentum=0.1, affine=True, track_running_stats=True)\n",
      "    (2): ReLU()\n",
      "    (3): ConvTranspose2d(128, 64, kernel_size=(4, 4), stride=(2, 2), padding=(1, 1))\n",
      "    (4): BatchNorm2d(64, eps=1e-05, momentum=0.1, affine=True, track_running_stats=True)\n",
      "    (5): ReLU()\n",
      "    (6): ConvTranspose2d(64, 1, kernel_size=(4, 4), stride=(2, 2), padding=(1, 1))\n",
      "    (7): Sigmoid()\n",
      "  )\n",
      "  (mlp): Linear(in_features=784, out_features=784, bias=True)\n",
      ")\n"
     ]
    }
   ],
   "source": [
    "vad = VariationalAutoDecoder(x_dim=X_DIM, \n",
    "                             z_dim=Z_DIM, \n",
    "                             mu=mu, \n",
    "                             sigma=sigma, \n",
    "                             device=device).to(device)\n",
    "print(vad)"
   ]
  },
  {
   "cell_type": "code",
   "execution_count": 12,
   "id": "14b106f3-817b-4ecf-9605-e16f2eb73712",
   "metadata": {},
   "outputs": [],
   "source": [
    "optim = torch.optim.Adam(params=vad.parameters(), lr=LEARNING_RATE)"
   ]
  },
  {
   "cell_type": "code",
   "execution_count": 13,
   "id": "b5f5cbb2-e9f8-444d-88d0-f44fd45177c8",
   "metadata": {},
   "outputs": [
    {
     "name": "stdout",
     "output_type": "stream",
     "text": [
      "TRAINING with  {'BATCH_SIZE': 64, 'LEARNING_RATE': 0.01, 'NUM_EPOCHS': 2000, 'X_DIM': 784, 'Z_DIM': 100, 'NUM_CLASSES': 10}\n",
      "epoch: 0 training loss: 33026967.21875\n",
      "epoch: 50 training loss: 1964037.27344\n",
      "epoch: 100 training loss: 1493485.51562\n",
      "epoch: 150 training loss: 1262189.40625\n",
      "epoch: 200 training loss: 1067270.33203\n",
      "epoch: 250 training loss: 867567.17188\n",
      "epoch: 300 training loss: 729421.42188\n",
      "epoch: 350 training loss: 581853.13672\n",
      "epoch: 400 training loss: 439250.70898\n",
      "epoch: 450 training loss: 328707.57422\n",
      "epoch: 500 training loss: 233041.84863\n",
      "epoch: 550 training loss: 167931.90527\n",
      "epoch: 600 training loss: 128325.57227\n",
      "epoch: 650 training loss: 100985.38721\n",
      "epoch: 700 training loss: 81720.11035\n",
      "epoch: 750 training loss: 74433.27759\n",
      "epoch: 800 training loss: 59086.53076\n",
      "epoch: 850 training loss: 53145.85571\n",
      "epoch: 900 training loss: 46436.21240\n",
      "epoch: 950 training loss: 43260.09570\n",
      "epoch: 1000 training loss: 39521.57349\n",
      "epoch: 1050 training loss: 39530.33472\n",
      "epoch: 1100 training loss: 30374.11694\n",
      "epoch: 1150 training loss: 28599.34009\n",
      "epoch: 1200 training loss: 26041.00647\n",
      "epoch: 1250 training loss: 28714.76050\n",
      "epoch: 1300 training loss: 21994.48132\n",
      "epoch: 1350 training loss: 19754.48560\n",
      "epoch: 1400 training loss: 22333.46436\n",
      "epoch: 1450 training loss: 16544.17847\n",
      "epoch: 1500 training loss: 15004.82990\n",
      "epoch: 1550 training loss: 15637.65521\n",
      "epoch: 1600 training loss: 14992.38776\n",
      "epoch: 1650 training loss: 14500.79187\n",
      "epoch: 1700 training loss: 13109.88684\n",
      "epoch: 1750 training loss: 13751.85370\n",
      "epoch: 1800 training loss: 10758.91522\n",
      "epoch: 1850 training loss: 11964.52600\n",
      "epoch: 1900 training loss: 9932.70148\n",
      "epoch: 1950 training loss: 11058.99011\n"
     ]
    }
   ],
   "source": [
    "train_losses = []\n",
    "print(\"TRAINING with \", config)\n",
    "for epoch in range(NUM_EPOCHS):\n",
    "    batch_losses = []\n",
    "    \n",
    "    for batch_i, batch in enumerate(train_dl):\n",
    "        idx, x = batch\n",
    "        \"\"\"\n",
    "        labels = train_ds.y[idx]\n",
    "        mu_batch = vad.mu[labels]\n",
    "        sigma_batch = vad.sigma[labels] \n",
    "        \"\"\"\n",
    "        \n",
    "        x_reconstruction = vad.forward(vad.dist_params[idx])\n",
    "        #x_reconstruction = x_reconstruction.view(x.size(0), 28, 28)\n",
    "        \n",
    "        loss = elbo2_loss(x_reconstruction, x.float(), vad.dist_params[idx][:,:Z_DIM], vad.dist_params[idx][:,Z_DIM:])\n",
    "        \n",
    "        optim.zero_grad()\n",
    "        loss.backward()\n",
    "        optim.step()\n",
    "        \n",
    "        batch_losses.append(loss.data.cpu().item())\n",
    "    \n",
    "    train_losses.append(np.mean(batch_losses))\n",
    "\n",
    "    if(epoch % 50 == 0):\n",
    "        print(\"epoch: {} training loss: {:.5f}\".format(epoch, train_losses[-1]))"
   ]
  },
  {
   "cell_type": "code",
   "execution_count": 14,
   "id": "6c384930-27e6-4ac4-accd-59c7a20d4a19",
   "metadata": {},
   "outputs": [
    {
     "data": {
      "image/png": "[encoded data removed]",
      "text/plain": [
       "<Figure size 1500x300 with 5 Axes>"
      ]
     },
     "metadata": {},
     "output_type": "display_data"
    },
    {
     "data": {
      "image/png": "[encoded data removed]",
      "text/plain": [
       "<Figure size 1500x300 with 5 Axes>"
      ]
     },
     "metadata": {},
     "output_type": "display_data"
    }
   ],
   "source": [
    "random_indices = random.sample(range(1000), 5)\n",
    "distr_params = vad.dist_params[random_indices]\n",
    "initial = train_ds[random_indices][1]\n",
    "\n",
    "x = vad(distr_params)\n",
    "restored = x.view(-1, 28, 28)\n",
    "\n",
    "plot_tensors_as_images(restored)\n",
    "plot_tensors_as_images(initial)"
   ]
  },
  {
   "cell_type": "code",
   "execution_count": 15,
   "id": "2ead2da4-cca8-4ca4-8b4a-6f89cabf2e78",
   "metadata": {},
   "outputs": [
    {
     "data": {
      "text/plain": [
       "<Figure size 800x600 with 0 Axes>"
      ]
     },
     "metadata": {},
     "output_type": "display_data"
    }
   ],
   "source": [
    "latent_vectors = vad.sample_vectors(vad.dist_params)\n",
    "utils.plot_tsne(train_ds, latent_vectors, \"VAD_TSNE_train\")"
   ]
  },
  {
   "cell_type": "code",
   "execution_count": 16,
   "id": "005de1cd-e776-4570-8bc8-d98f30fe3ae9",
   "metadata": {},
   "outputs": [
    {
     "name": "stdout",
     "output_type": "stream",
     "text": [
      "0.15256715565919876\n"
     ]
    },
    {
     "data": {
      "text/plain": [
       "<Figure size 800x600 with 0 Axes>"
      ]
     },
     "metadata": {},
     "output_type": "display_data"
    }
   ],
   "source": [
    "mu_init = torch.randn(NUM_CLASSES, Z_DIM, requires_grad=True)\n",
    "sigma_init = 6 * torch.randn(NUM_CLASSES, Z_DIM, requires_grad=True)\n",
    "\n",
    "labels = test_ds.y\n",
    "\n",
    "mu = mu_init[labels]\n",
    "sigma = sigma_init[labels]\n",
    "params = torch.cat((mu,sigma),dim=1)\n",
    "vad.dist_params = torch.nn.Parameter(params,True)\n",
    "\n",
    "opt = torch.optim.Adam([vad.dist_params], lr=LEARNING_RATE)\n",
    "\n",
    "res = evaluate.evaluate_model(vad, test_dl, opt, vad.dist_params, 500 , device)\n",
    "print(res)\n",
    "utils.plot_tsne(test_ds, vad.dist_params, \"VAD_TSNE_test\")\n"
   ]
  }
 ],
 "metadata": {
  "kernelspec": {
   "display_name": "Python 3 (ipykernel)",
   "language": "python",
   "name": "python3"
  },
  "language_info": {
   "codemirror_mode": {
    "name": "ipython",
    "version": 3
   },
   "file_extension": ".py",
   "mimetype": "text/x-python",
   "name": "python",
   "nbconvert_exporter": "python",
   "pygments_lexer": "ipython3",
   "version": "3.10.14"
  }
 },
 "nbformat": 4,
 "nbformat_minor": 5
}
