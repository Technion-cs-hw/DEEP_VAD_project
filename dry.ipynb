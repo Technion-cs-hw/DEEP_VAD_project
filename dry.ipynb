{
 "cells": [
  {
   "cell_type": "code",
   "execution_count": 1,
   "id": "5efa35ad-cd1b-4126-80c8-ad4f0eb1ac02",
   "metadata": {},
   "outputs": [],
   "source": [
    "import torch\n",
    "import torch.nn as nn\n",
    "import os\n",
    "from torch.utils.data import Dataset, DataLoader\n",
    "import tqdm.auto"
   ]
  },
  {
   "cell_type": "code",
   "execution_count": 2,
   "id": "44cb4fa5-c827-4fae-bc8e-50588a6f261d",
   "metadata": {},
   "outputs": [],
   "source": [
    "def get_device():\n",
    "    if torch.cuda.is_available(): \n",
    "     dev = \"cuda:0\" \n",
    "    else: \n",
    "     dev = \"cpu\" \n",
    "    return torch.device(dev) "
   ]
  },
  {
   "cell_type": "code",
   "execution_count": 3,
   "id": "475ec818-ecf1-41d6-90ef-d8301e43146d",
   "metadata": {},
   "outputs": [
    {
     "name": "stdout",
     "output_type": "stream",
     "text": [
      "cpu\n"
     ]
    }
   ],
   "source": [
    "device = get_device()\n",
    "print(device)"
   ]
  },
  {
   "cell_type": "code",
   "execution_count": 4,
   "id": "4c9358cc-da06-40ab-a29f-1a0b471c341f",
   "metadata": {},
   "outputs": [],
   "source": [
    "class VanishingNet(nn.Module):\n",
    "    def __init__(self):\n",
    "        super(VanishingNet, self).__init__()\n",
    "        self.network = nn.Sequential(\n",
    "            nn.Linear(784, 512),\n",
    "            nn.Sigmoid(),\n",
    "            nn.Linear(512, 512),\n",
    "            nn.Sigmoid(),\n",
    "            nn.Linear(512, 512),\n",
    "            nn.Sigmoid(),\n",
    "            nn.Linear(512, 512),\n",
    "            nn.Sigmoid(),\n",
    "            nn.Linear(512, 512),\n",
    "            nn.Sigmoid(),\n",
    "            nn.Linear(512, 512),\n",
    "            nn.Sigmoid(),\n",
    "            nn.Linear(512, 512),\n",
    "            nn.Sigmoid(),\n",
    "            nn.Linear(512, 512),\n",
    "            nn.Sigmoid(),\n",
    "            nn.Linear(512, 512),\n",
    "            nn.Sigmoid(),\n",
    "            nn.Linear(512, 512),\n",
    "            nn.Sigmoid(),\n",
    "            nn.Linear(512, 10)\n",
    "        )\n",
    "\n",
    "    def forward(self, x):\n",
    "       return self.network(x)"
   ]
  },
  {
   "cell_type": "code",
   "execution_count": 5,
   "id": "08b228fd-c5ea-4089-aa5f-53a5cf3fc668",
   "metadata": {},
   "outputs": [],
   "source": [
    "# Initialize the network and a dummy input\n",
    "model = VanishingNet()\n",
    "input_data = torch.randn(1, 784)  # A random input\n",
    "\n",
    "# Define a loss function and an optimizer\n",
    "criterion = nn.MSELoss()\n",
    "optimizer = torch.optim.SGD(model.parameters(), lr=0.01)"
   ]
  },
  {
   "cell_type": "code",
   "execution_count": 6,
   "id": "c364e049-1a7e-4fb6-9d50-ed812b4ea34f",
   "metadata": {},
   "outputs": [],
   "source": [
    "# Forward pass\n",
    "output = model(input_data)\n",
    "target = torch.randn(1, 10)  # Random target\n",
    "loss = criterion(output, target)\n",
    "    \n",
    "# Backward pass\n",
    "loss.backward()"
   ]
  },
  {
   "cell_type": "code",
   "execution_count": 7,
   "id": "9cce4ec9-4415-403e-a7c9-6f2691914146",
   "metadata": {},
   "outputs": [
    {
     "name": "stdout",
     "output_type": "stream",
     "text": [
      "Gradients for network.0.weight: 7.15666175210572e-08\n",
      "Gradients for network.0.bias: 2.520903263913965e-09\n",
      "Gradients for network.2.weight: 2.152677467393005e-07\n",
      "Gradients for network.2.bias: 1.82332673404062e-08\n",
      "Gradients for network.4.weight: 1.4937688774807611e-06\n",
      "Gradients for network.4.bias: 1.3155286637811514e-07\n",
      "Gradients for network.6.weight: 1.1041301149816718e-05\n",
      "Gradients for network.6.bias: 9.594491530151572e-07\n",
      "Gradients for network.8.weight: 7.962269592098892e-05\n",
      "Gradients for network.8.bias: 6.92343792252359e-06\n",
      "Gradients for network.10.weight: 0.0005476514925248921\n",
      "Gradients for network.10.bias: 4.826540680369362e-05\n",
      "Gradients for network.12.weight: 0.003924783784896135\n",
      "Gradients for network.12.bias: 0.0003431191435083747\n",
      "Gradients for network.14.weight: 0.027769051492214203\n",
      "Gradients for network.14.bias: 0.0024162540212273598\n",
      "Gradients for network.16.weight: 0.196633979678154\n",
      "Gradients for network.16.bias: 0.01708238758146763\n",
      "Gradients for network.18.weight: 1.448901891708374\n",
      "Gradients for network.18.bias: 0.12769806385040283\n",
      "Gradients for network.20.weight: 10.350237846374512\n",
      "Gradients for network.20.bias: 0.9008130431175232\n"
     ]
    }
   ],
   "source": [
    "# Print out the gradients of each layer\n",
    "for name, param in model.named_parameters():\n",
    "    if param.requires_grad:\n",
    "        print(f\"Gradients for {name}: {param.grad.norm()}\")"
   ]
  },
  {
   "cell_type": "code",
   "execution_count": 8,
   "id": "c6f40027-3341-4c4f-a781-9b1550c8f44e",
   "metadata": {},
   "outputs": [],
   "source": [
    "class ExplodingNet(nn.Module):\n",
    "    def __init__(self):\n",
    "        super(ExplodingNet, self).__init__()\n",
    "        self.network = nn.Sequential(\n",
    "            nn.Linear(784, 256),\n",
    "            nn.ReLU(),\n",
    "            nn.Linear(256, 128),\n",
    "            nn.ReLU(),\n",
    "            nn.Linear(128, 64),\n",
    "            nn.ReLU(),\n",
    "            nn.Linear(64, 10)\n",
    "        )\n",
    "    def forward(self, x):\n",
    "        return self.network(x)"
   ]
  },
  {
   "cell_type": "code",
   "execution_count": 9,
   "id": "912a01d5-b5f9-4914-b811-3c1673c73369",
   "metadata": {},
   "outputs": [],
   "source": [
    "# Initialize the network and a dummy input\n",
    "model = ExplodingNet()\n",
    "input_data = torch.randn(1, 784)  # A random input\n",
    "\n",
    "# Define a loss function and an optimizer\n",
    "criterion = nn.MSELoss()\n",
    "optimizer = torch.optim.SGD(model.parameters(), lr=0.01)\n",
    "\n",
    "# Set large initial weights to simulate exploding gradients\n",
    "for param in model.parameters():\n",
    "    nn.init.uniform_(param, a=10.0, b=20.0)  # Initialize weights in a large range"
   ]
  },
  {
   "cell_type": "code",
   "execution_count": 10,
   "id": "7e482dbc-8174-4193-9a49-1e2964a2c69f",
   "metadata": {},
   "outputs": [],
   "source": [
    "# Forward pass\n",
    "output = model(input_data)\n",
    "target = torch.randn(1, 10)  # Random target\n",
    "loss = criterion(output, target)\n",
    "    \n",
    "# Backward pass\n",
    "loss.backward()"
   ]
  },
  {
   "cell_type": "code",
   "execution_count": 11,
   "id": "53dbba44-7913-4dd4-bb4e-f74ff4e58bc2",
   "metadata": {},
   "outputs": [
    {
     "name": "stdout",
     "output_type": "stream",
     "text": [
      "Gradients for network.0.weight: 0.0\n",
      "Gradients for network.0.bias: 0.0\n",
      "Gradients for network.2.weight: 0.0\n",
      "Gradients for network.2.bias: 9009178345472.0\n",
      "Gradients for network.4.weight: 1178562199552.0\n",
      "Gradients for network.4.bias: 6631713280.0\n",
      "Gradients for network.6.weight: 4210119671808.0\n",
      "Gradients for network.6.bias: 17728724.0\n"
     ]
    }
   ],
   "source": [
    "# Print out the gradients of each layer\n",
    "for name, param in model.named_parameters():\n",
    "    if param.requires_grad:\n",
    "        print(f\"Gradients for {name}: {param.grad.norm()}\")"
   ]
  }
 ],
 "metadata": {
  "kernelspec": {
   "display_name": "Python 3 (ipykernel)",
   "language": "python",
   "name": "python3"
  },
  "language_info": {
   "codemirror_mode": {
    "name": "ipython",
    "version": 3
   },
   "file_extension": ".py",
   "mimetype": "text/x-python",
   "name": "python",
   "nbconvert_exporter": "python",
   "pygments_lexer": "ipython3",
   "version": "3.10.14"
  }
 },
 "nbformat": 4,
 "nbformat_minor": 5
}
